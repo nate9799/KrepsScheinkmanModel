{
 "cells": [
  {
   "cell_type": "markdown",
   "metadata": {},
   "source": [
    "# Various testing & plots\n",
    "\n",
    "In this notebook, I test various things and create some plots. "
   ]
  },
  {
   "cell_type": "code",
   "execution_count": 1,
   "metadata": {
    "ExecuteTime": {
     "end_time": "2017-12-21T16:31:41.444286Z",
     "start_time": "2017-12-21T16:31:39.913586Z"
    }
   },
   "outputs": [],
   "source": [
    "import os\n",
    "import sys\n",
    "\n",
    "import numpy    as np\n",
    "import pandas   as pd\n",
    "import seaborn  as sb\n",
    "\n",
    "from numpy           import exp, sqrt\n",
    "from pprint          import pprint as pp\n",
    "from itertools       import product,combinations\n",
    "from scipy.optimize  import fsolve\n",
    "from numpy.random    import normal      as dW\n",
    "\n",
    "from matplotlib import pyplot as plt\n",
    "\n",
    "from sklearn.externals import joblib as jl\n",
    "\n",
    "%matplotlib inline\n",
    "\n",
    "%load_ext autoreload\n",
    "%autoreload 2"
   ]
  },
  {
   "cell_type": "markdown",
   "metadata": {},
   "source": [
    "# Circle Plot"
   ]
  },
  {
   "cell_type": "code",
   "execution_count": 7,
   "metadata": {},
   "outputs": [],
   "source": [
    "def circle_plot( a_seller_pos, a_buyer_pos, a_color=None, seller_ind=None, ax=None ):\n",
    "    \"\"\"\n",
    "    Plot a circle of length 2pi and annotate the location of buyers and sellers on that circle. \n",
    "\n",
    "    input:\n",
    "    -----\n",
    "\n",
    "    a_seller_pos:       Array of seller locations (values between 0 and 2pi)\n",
    "    a_buyer_pos:        Array of buyer locations (values between 0 and 2pi)\n",
    "    a_color:            Array of length a_seller_pos, with one color per seller \n",
    "    seller_ind:         If not None, should be for each buyer the index number of the seller they bought from the most. \n",
    "                        This is then used to color the buyers in the same color as the respective sellers. If this \n",
    "                        variable is set to None, all buyers will be plotted in grey. \n",
    "    ax:                 Axis instance to plot into. \n",
    "    \"\"\"\n",
    "\n",
    "    # create the plot window and define other plotting related quantities\n",
    "    ####################################################################################################################\n",
    "    if ax is None:\n",
    "\n",
    "        fig = plt.figure(figsize=(7,7))\n",
    "        ax  = plt.gca()\n",
    "\n",
    "    if a_color is None: a_color = sb.color_palette(\"deep\",2)\n",
    "\n",
    "    # plot a grey circle \n",
    "    ####################################################################################################################    \n",
    "    r       = 1\n",
    "    angles  = np.linspace(0, 2*np.pi, 500)\n",
    "    xs      = r * np.sin(angles)                                    \n",
    "    ys      = r * np.cos(angles) \n",
    "    ax.plot(xs, ys, color='grey', linestyle='--', zorder=1)\n",
    "\n",
    "    # plot the seller locations \n",
    "    ####################################################################################################################    \n",
    "    for i, s in enumerate(a_seller_pos):                        \n",
    "        xcoord = [ r * np.sin( 2*np.pi*s ) ]\n",
    "        ycoord = [ r * np.cos( 2*np.pi*s ) ]\n",
    "        ax.scatter(xcoord, ycoord, marker='o', facecolor=a_color[i], alpha=0.8, \n",
    "                color=a_color[i], s=400, zorder=3, label='Firm %d'%(i+1))\n",
    "\n",
    "    # for each buyer, find index of his seller\n",
    "    ####################################################################################################################\n",
    "    for j, b in enumerate(a_buyer_pos): \n",
    "\n",
    "        col    = 'ForestGreen' if seller_ind is None else a_color[seller_ind[j]]\n",
    "        label  = '' if j > 0 else 'buyer location'\n",
    "        xcoord = [ r * np.sin( 2*np.pi*b ) ]\n",
    "        ycoord = [ r * np.cos( 2*np.pi*b ) ]        \n",
    "\n",
    "        ax.scatter(xcoord, ycoord, marker='x', color=col, s=150, zorder=2, label=label ) \n",
    "\n",
    "    # adjust the axis limits\n",
    "    ####################################################################################################################\n",
    "    ax.set_xlim(-1.2*r, 1.2*r)\n",
    "    ax.set_ylim(-1.2*r, 1.5*r)\n",
    "    ax.legend(loc='center', ncol=1, frameon=False, fontsize=8, labelspacing=2)\n",
    "    ax.axes.get_xaxis().set_visible(False)\n",
    "    ax.axes.get_yaxis().set_visible(False)\n",
    "    ax.axis('equal')"
   ]
  },
  {
   "cell_type": "code",
   "execution_count": 53,
   "metadata": {},
   "outputs": [
    {
     "data": {
      "image/png": "[encoded data removed]",
      "text/plain": [
       "<Figure size 504x504 with 1 Axes>"
      ]
     },
     "metadata": {},
     "output_type": "display_data"
    }
   ],
   "source": [
    "np.random.seed(38)\n",
    "\n",
    "a_seller_pos = [0.0, 0.55]\n",
    "a_buyer_pos  = np.random.uniform(size=12)\n",
    "\n",
    "\n",
    "plt.figure(figsize=(7,7))\n",
    "ax = plt.gca()\n",
    "circle_plot( a_seller_pos, a_buyer_pos, a_color=None, seller_ind=None, ax=ax )\n",
    "plt.savefig('circle_topology.pdf', bbox_inches='tight')"
   ]
  },
  {
   "cell_type": "markdown",
   "metadata": {},
   "source": [
    "# Creating the histogram plot for the short note on digital taxation\n",
    "\n",
    "Below, I load some hard-coded file names and create a plot for the short note. "
   ]
  },
  {
   "cell_type": "markdown",
   "metadata": {},
   "source": [
    "I create file names that are easy to interpret, and then I load all the outputs into one dictionary:"
   ]
  },
  {
   "cell_type": "code",
   "execution_count": 2,
   "metadata": {},
   "outputs": [],
   "source": [
    "cases = {\n",
    "        '1_cardinal_with_tax_equal':      './output/data/S=2_B=12_gamma=1.0_scalar_tax=0.4_mean_cost=100_mincost=100_endow=120.0_randomize=True_tax=cardinal.pkl',\n",
    "        '2_cardinal_with_tax_smalldiff':  './output/data/S=2_B=12_gamma=1.0_scalar_tax=0.4_mean_cost=100_mincost=99_endow=120.0_randomize=True_tax=cardinal.pkl',\n",
    "        '3_no_tax_equal':                 './output/data/S=2_B=12_gamma=1.0_scalar_tax=0.0_mean_cost=100_mincost=100_endow=120.0_randomize=True_tax=cardinal.pkl',\n",
    "        '4_no_tax_smalldiff':             './output/data/S=2_B=12_gamma=1.0_scalar_tax=0.0_mean_cost=100_mincost=99_endow=120.0_randomize=True_tax=cardinal.pkl',\n",
    "        '5_no_tax_largediff':             './output/data/S=2_B=12_gamma=1.0_scalar_tax=0.0_mean_cost=90_mincost=80_endow=120.0_randomize=True_tax=ordinal.pkl',\n",
    "        '6_ordinal_smalldiff':            './output/data/S=2_B=12_gamma=1.0_scalar_tax=0.4_mean_cost=100_mincost=99_endow=120.0_randomize=True_tax=ordinal.pkl',\n",
    "        '6_ordinal_largediff':            './output/data/S=2_B=12_gamma=1.0_scalar_tax=0.4_mean_cost=90_mincost=80_endow=120.0_randomize=True_tax=ordinal.pkl',\n",
    "        }"
   ]
  },
  {
   "cell_type": "markdown",
   "metadata": {},
   "source": [
    "In case_files, I store all the data:"
   ]
  },
  {
   "cell_type": "code",
   "execution_count": 3,
   "metadata": {},
   "outputs": [],
   "source": [
    "case_files = {}\n",
    "for c,fn in cases.items(): case_files[c] = jl.load(fn)"
   ]
  },
  {
   "cell_type": "markdown",
   "metadata": {},
   "source": [
    "Overview of the different data for each file:"
   ]
  },
  {
   "cell_type": "code",
   "execution_count": 4,
   "metadata": {},
   "outputs": [
    {
     "data": {
      "text/plain": [
       "['mean_cost',\n",
       " 'm_tax',\n",
       " 'a_quantity_nash',\n",
       " 'm_quantity_bought',\n",
       " 'a_price_nash',\n",
       " 'num_buyers',\n",
       " 'a_seller_loc',\n",
       " 'a_buyer_loc',\n",
       " 'scalar_tax',\n",
       " 'a_quantity_sold',\n",
       " 'a_cost',\n",
       " 'num_sellers',\n",
       " 'a_profit',\n",
       " 'endowment',\n",
       " 'cost_ratio',\n",
       " 'gamma']"
      ]
     },
     "execution_count": 4,
     "metadata": {},
     "output_type": "execute_result"
    }
   ],
   "source": [
    "list(case_files['1_cardinal_with_tax_equal'].keys())"
   ]
  },
  {
   "cell_type": "markdown",
   "metadata": {},
   "source": [
    "Because there is a saving bug in the equal tax files, we need to replace the 0 profits there:"
   ]
  },
  {
   "cell_type": "code",
   "execution_count": 5,
   "metadata": {},
   "outputs": [],
   "source": [
    "for c,d in case_files.items():\n",
    "    \n",
    "    if '_equal' in c: \n",
    "        d['a_profit'][1] = d['a_profit'][0]"
   ]
  },
  {
   "cell_type": "markdown",
   "metadata": {},
   "source": [
    "Now, we load for each case the ratio of the profits:"
   ]
  },
  {
   "cell_type": "code",
   "execution_count": 6,
   "metadata": {},
   "outputs": [
    {
     "name": "stderr",
     "output_type": "stream",
     "text": [
      "/anaconda3/lib/python3.6/site-packages/ipykernel_launcher.py:5: RuntimeWarning: divide by zero encountered in double_scalars\n",
      "  \"\"\"\n"
     ]
    }
   ],
   "source": [
    "profit_ratios = dict()\n",
    "for c,d in case_files.items():\n",
    "    \n",
    "    profits = d['a_profit']\n",
    "    profit_ratios[c] = max(profits) / min(profits)"
   ]
  },
  {
   "cell_type": "code",
   "execution_count": 7,
   "metadata": {},
   "outputs": [
    {
     "data": {
      "text/plain": [
       "{'1_cardinal_with_tax_equal': 1.0,\n",
       " '2_cardinal_with_tax_smalldiff': 1.0829795345592605,\n",
       " '3_no_tax_equal': 1.0,\n",
       " '4_no_tax_smalldiff': 1.3251367878982958,\n",
       " '5_no_tax_largediff': inf,\n",
       " '6_ordinal_smalldiff': 1.1072625698324028,\n",
       " '6_ordinal_largediff': 6.6837856406733085}"
      ]
     },
     "execution_count": 7,
     "metadata": {},
     "output_type": "execute_result"
    }
   ],
   "source": [
    "profit_ratios"
   ]
  },
  {
   "cell_type": "markdown",
   "metadata": {},
   "source": [
    "We transform the printed result into a dictionary that is easy to use in plotting below:"
   ]
  },
  {
   "cell_type": "code",
   "execution_count": 8,
   "metadata": {},
   "outputs": [],
   "source": [
    "profit_ratio_cases =   {\n",
    "                        '0% cost difference\\ncardinal tax': 0.05, \n",
    "                        '1% cost difference\\ncardinal tax': 0.07, \n",
    "                        '1% cost difference\\nno tax':       0.33, \n",
    "                        '0% cost difference\\nordinal tax':  0.00, \n",
    "                        '1% cost difference\\nordinal tax':  0.07, \n",
    "                        '20% cost difference\\nordinal tax':  6.68, \n",
    "                        }"
   ]
  },
  {
   "cell_type": "markdown",
   "metadata": {},
   "source": [
    "We also look at the total revenue generated:"
   ]
  },
  {
   "cell_type": "code",
   "execution_count": 9,
   "metadata": {},
   "outputs": [],
   "source": [
    "revenue = dict()\n",
    "for c,d in case_files.items():\n",
    "    \n",
    "    rev = sum( d['a_quantity_sold'] * d['a_price_nash'] ) \n",
    "    revenue[c] = int(rev)"
   ]
  },
  {
   "cell_type": "code",
   "execution_count": 10,
   "metadata": {},
   "outputs": [
    {
     "data": {
      "text/plain": [
       "{'1_cardinal_with_tax_equal': 37440,\n",
       " '2_cardinal_with_tax_smalldiff': 6789,\n",
       " '3_no_tax_equal': 42049,\n",
       " '4_no_tax_smalldiff': 17560,\n",
       " '5_no_tax_largediff': 24000,\n",
       " '6_ordinal_smalldiff': 14006,\n",
       " '6_ordinal_largediff': 17886}"
      ]
     },
     "execution_count": 10,
     "metadata": {},
     "output_type": "execute_result"
    }
   ],
   "source": [
    "revenue"
   ]
  },
  {
   "cell_type": "code",
   "execution_count": 11,
   "metadata": {},
   "outputs": [],
   "source": [
    "revenue_ratios_cases =   {\n",
    "                        '0% cost difference\\ncardinal tax': 9789  / 17560, \n",
    "                        '1% cost difference\\ncardinal tax': 10789 / 17560, \n",
    "                        '1% cost difference\\nno tax':       17560 / 17560, \n",
    "                        '0% cost difference\\nordinal tax':  14006 / 17560,\n",
    "                        '1% cost difference\\nordinal tax':  14006 / 17560,\n",
    "                        '20% cost difference\\nordinal tax': 17886 / 17560,\n",
    "                        }"
   ]
  },
  {
   "cell_type": "code",
   "execution_count": 19,
   "metadata": {},
   "outputs": [
    {
     "data": {
      "image/png": "[encoded data removed]",
      "text/plain": [
       "<Figure size 648x432 with 2 Axes>"
      ]
     },
     "metadata": {},
     "output_type": "display_data"
    }
   ],
   "source": [
    "from plot_util import customaxis\n",
    "sb.set_style('darkgrid')\n",
    "\n",
    "cases   = profit_ratio_cases.keys()\n",
    "profits = profit_ratio_cases.values()\n",
    "revs    = revenue_ratios_cases.values()\n",
    "n       = len(cases)\n",
    "xvalues = np.arange(1, n + 1)\n",
    "colors  = sb.color_palette( [\"#9b59b6\", \"#e74c3c\"])\n",
    "w       = 0.2\n",
    "fs      = 14\n",
    "\n",
    "fig = plt.figure(figsize=(9,6))\n",
    "ax  = plt.gca()\n",
    "axt = ax.twinx()\n",
    "\n",
    "ax.grid(False)\n",
    "axt.grid(False)\n",
    "\n",
    "ax.bar(xvalues-w, profits, width=.8*w, color=colors[0],    alpha=1.0, align='center')\n",
    "axt.bar(xvalues, revs,     width=.8*w, color=colors[1],   alpha=1.0, align='center')\n",
    "\n",
    "customaxis(ax         = ax, \n",
    "           position   = 'left', \n",
    "           color      = colors[0], \n",
    "           label      = 'relative difference in profit',\n",
    "           scale      = 'log', \n",
    "           size       = fs, \n",
    "           full_nrs   = False, \n",
    "           location   = -0.0015)\n",
    "\n",
    "customaxis(ax         = axt, \n",
    "           position   = 'right', \n",
    "           color      = colors[1], \n",
    "           label      = 'relative difference in total revenue',\n",
    "           scale      = 'linear', \n",
    "           size       = fs, \n",
    "           full_nrs   = False, \n",
    "           location   = 1.0)\n",
    "\n",
    "ax.set_xlabel('')\n",
    "ax.set_xticks(xvalues)\n",
    "ax.set_xticklabels(cases, fontsize=fs-3, rotation=45 )\n",
    "\n",
    "plt.savefig('performance_histogram.pdf', bbox_inches='tight')"
   ]
  },
  {
   "cell_type": "code",
   "execution_count": null,
   "metadata": {},
   "outputs": [],
   "source": []
  }
 ],
 "metadata": {
  "anaconda-cloud": {},
  "kernelspec": {
   "display_name": "Python 3",
   "language": "python",
   "name": "python3"
  },
  "language_info": {
   "codemirror_mode": {
    "name": "ipython",
    "version": 3
   },
   "file_extension": ".py",
   "mimetype": "text/x-python",
   "name": "python",
   "nbconvert_exporter": "python",
   "pygments_lexer": "ipython3",
   "version": "3.6.5"
  }
 },
 "nbformat": 4,
 "nbformat_minor": 2
}
