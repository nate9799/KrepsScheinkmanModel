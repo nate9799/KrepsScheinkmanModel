{
 "cells": [
  {
   "cell_type": "markdown",
   "metadata": {},
   "source": [
    "# Various testing & plots\n",
    "\n",
    "In this notebook, I test various details and also create some plots. "
   ]
  },
  {
   "cell_type": "code",
   "execution_count": 1,
   "metadata": {
    "ExecuteTime": {
     "end_time": "2017-12-21T16:31:41.444286Z",
     "start_time": "2017-12-21T16:31:39.913586Z"
    }
   },
   "outputs": [],
   "source": [
    "import os\n",
    "import sys\n",
    "\n",
    "import numpy    as np\n",
    "import pandas   as pd\n",
    "import seaborn  as sb\n",
    "\n",
    "from numpy           import exp, sqrt\n",
    "from pprint          import pprint as pp\n",
    "from itertools       import product,combinations\n",
    "from scipy.optimize  import fsolve\n",
    "from numpy.random    import normal      as dW\n",
    "\n",
    "from matplotlib import pyplot as plt\n",
    "\n",
    "from sklearn.externals import joblib as jl\n",
    "\n",
    "%matplotlib inline\n",
    "\n",
    "%load_ext autoreload\n",
    "%autoreload 2\n"
   ]
  },
  {
   "cell_type": "markdown",
   "metadata": {},
   "source": [
    "# Creating the plot for the short note\n",
    "\n",
    "Below, I load some hard-coded file names and create a plot for the short note. "
   ]
  },
  {
   "cell_type": "markdown",
   "metadata": {},
   "source": [
    "I create file names that are easy to interpret, and then I load all the outputs into one dictionary:"
   ]
  },
  {
   "cell_type": "code",
   "execution_count": 2,
   "metadata": {},
   "outputs": [],
   "source": [
    "cases = {\n",
    "        '1_cardinal_with_tax_equal':      './output/data/S=2_B=12_gamma=1.0_scalar_tax=0.4_mean_cost=100_mincost=100_endow=120.0_randomize=True_tax=cardinal.pkl',\n",
    "        '2_cardinal_with_tax_smalldiff':  './output/data/S=2_B=12_gamma=1.0_scalar_tax=0.4_mean_cost=100_mincost=99_endow=120.0_randomize=True_tax=cardinal.pkl',\n",
    "        '3_no_tax_equal':                 './output/data/S=2_B=12_gamma=1.0_scalar_tax=0.0_mean_cost=100_mincost=100_endow=120.0_randomize=True_tax=cardinal.pkl',\n",
    "        '4_no_tax_smalldiff':             './output/data/S=2_B=12_gamma=1.0_scalar_tax=0.0_mean_cost=100_mincost=99_endow=120.0_randomize=True_tax=cardinal.pkl',\n",
    "        '5_no_tax_largediff':             './output/data/S=2_B=12_gamma=1.0_scalar_tax=0.0_mean_cost=90_mincost=80_endow=120.0_randomize=True_tax=ordinal.pkl',\n",
    "        '6_ordinal_smalldiff':            './output/data/S=2_B=12_gamma=1.0_scalar_tax=0.4_mean_cost=100_mincost=99_endow=120.0_randomize=True_tax=ordinal.pkl',\n",
    "        '6_ordinal_largediff':            './output/data/S=2_B=12_gamma=1.0_scalar_tax=0.4_mean_cost=90_mincost=80_endow=120.0_randomize=True_tax=ordinal.pkl',\n",
    "        }"
   ]
  },
  {
   "cell_type": "markdown",
   "metadata": {},
   "source": [
    "In case_files, I store all the data:"
   ]
  },
  {
   "cell_type": "code",
   "execution_count": 3,
   "metadata": {},
   "outputs": [],
   "source": [
    "case_files = {}\n",
    "for c,fn in cases.items(): case_files[c] = jl.load(fn)"
   ]
  },
  {
   "cell_type": "markdown",
   "metadata": {},
   "source": [
    "Overview of the different data for each file:"
   ]
  },
  {
   "cell_type": "code",
   "execution_count": 4,
   "metadata": {},
   "outputs": [
    {
     "data": {
      "text/plain": [
       "['mean_cost',\n",
       " 'm_tax',\n",
       " 'a_quantity_nash',\n",
       " 'm_quantity_bought',\n",
       " 'a_price_nash',\n",
       " 'num_buyers',\n",
       " 'a_seller_loc',\n",
       " 'a_buyer_loc',\n",
       " 'scalar_tax',\n",
       " 'a_quantity_sold',\n",
       " 'a_cost',\n",
       " 'num_sellers',\n",
       " 'a_profit',\n",
       " 'endowment',\n",
       " 'cost_ratio',\n",
       " 'gamma']"
      ]
     },
     "execution_count": 4,
     "metadata": {},
     "output_type": "execute_result"
    }
   ],
   "source": [
    "list(case_files['1_cardinal_with_tax_equal'].keys())"
   ]
  },
  {
   "cell_type": "markdown",
   "metadata": {},
   "source": [
    "Because there is a saving bug in the equal tax files, we need to replace the 0 profits there:"
   ]
  },
  {
   "cell_type": "code",
   "execution_count": 5,
   "metadata": {},
   "outputs": [],
   "source": [
    "for c,d in case_files.items():\n",
    "    \n",
    "    if '_equal' in c: \n",
    "        d['a_profit'][1] = d['a_profit'][0]"
   ]
  },
  {
   "cell_type": "markdown",
   "metadata": {},
   "source": [
    "Now, we load for each case the ratio of the profits:"
   ]
  },
  {
   "cell_type": "code",
   "execution_count": 6,
   "metadata": {},
   "outputs": [
    {
     "name": "stderr",
     "output_type": "stream",
     "text": [
      "/anaconda3/lib/python3.6/site-packages/ipykernel_launcher.py:5: RuntimeWarning: divide by zero encountered in double_scalars\n",
      "  \"\"\"\n"
     ]
    }
   ],
   "source": [
    "profit_ratios = dict()\n",
    "for c,d in case_files.items():\n",
    "    \n",
    "    profits = d['a_profit']\n",
    "    profit_ratios[c] = max(profits) / min(profits)"
   ]
  },
  {
   "cell_type": "code",
   "execution_count": 7,
   "metadata": {},
   "outputs": [
    {
     "data": {
      "text/plain": [
       "{'1_cardinal_with_tax_equal': 1.0,\n",
       " '2_cardinal_with_tax_smalldiff': 1.0829795345592605,\n",
       " '3_no_tax_equal': 1.0,\n",
       " '4_no_tax_smalldiff': 1.3251367878982958,\n",
       " '5_no_tax_largediff': inf,\n",
       " '6_ordinal_smalldiff': 1.1072625698324028,\n",
       " '6_ordinal_largediff': 6.6837856406733085}"
      ]
     },
     "execution_count": 7,
     "metadata": {},
     "output_type": "execute_result"
    }
   ],
   "source": [
    "profit_ratios"
   ]
  },
  {
   "cell_type": "markdown",
   "metadata": {},
   "source": [
    "We transform the printed result into a dictionary that is easy to use in plotting below:"
   ]
  },
  {
   "cell_type": "code",
   "execution_count": 13,
   "metadata": {},
   "outputs": [],
   "source": [
    "profit_ratio_cases =   {\n",
    "                        '0% cost difference\\ncardinal tax': 0.05, \n",
    "                        '1% cost difference\\ncardinal tax': 0.07, \n",
    "                        '1% cost difference\\nno tax':       0.33, \n",
    "                        '0% cost difference\\nordinal tax':  0.00, \n",
    "                        '1% cost difference\\nordinal tax':  0.07, \n",
    "                        '20% cost difference\\nordinal tax':  6.68, \n",
    "                        }"
   ]
  },
  {
   "cell_type": "markdown",
   "metadata": {},
   "source": [
    "We also look at the total revenue generated:"
   ]
  },
  {
   "cell_type": "code",
   "execution_count": 14,
   "metadata": {},
   "outputs": [],
   "source": [
    "revenue = dict()\n",
    "for c,d in case_files.items():\n",
    "    \n",
    "    rev = sum( d['a_quantity_sold'] * d['a_price_nash'] ) \n",
    "    revenue[c] = int(rev)"
   ]
  },
  {
   "cell_type": "code",
   "execution_count": 15,
   "metadata": {},
   "outputs": [
    {
     "data": {
      "text/plain": [
       "{'1_cardinal_with_tax_equal': 37440,\n",
       " '2_cardinal_with_tax_smalldiff': 6789,\n",
       " '3_no_tax_equal': 42049,\n",
       " '4_no_tax_smalldiff': 17560,\n",
       " '5_no_tax_largediff': 24000,\n",
       " '6_ordinal_smalldiff': 14006,\n",
       " '6_ordinal_largediff': 17886}"
      ]
     },
     "execution_count": 15,
     "metadata": {},
     "output_type": "execute_result"
    }
   ],
   "source": [
    "revenue"
   ]
  },
  {
   "cell_type": "code",
   "execution_count": 16,
   "metadata": {},
   "outputs": [],
   "source": [
    "revenue_ratios_cases =   {\n",
    "                        '0% cost difference\\ncardinal tax': 9789  / 17560, \n",
    "                        '1% cost difference\\ncardinal tax': 10789 / 17560, \n",
    "                        '1% cost difference\\nno tax':       17560 / 17560, \n",
    "                        '0% cost difference\\nordinal tax':  14006 / 17560,\n",
    "                        '1% cost difference\\nordinal tax':  14006 / 17560,\n",
    "                        '20% cost difference\\nordinal tax': 17886 / 17560,\n",
    "                        }"
   ]
  },
  {
   "cell_type": "code",
   "execution_count": 17,
   "metadata": {},
   "outputs": [
    {
     "data": {
      "image/png": "[encoded data removed]",
      "text/plain": [
       "<Figure size 648x432 with 2 Axes>"
      ]
     },
     "metadata": {},
     "output_type": "display_data"
    }
   ],
   "source": [
    "from plot_util import customaxis\n",
    "sb.set_style('darkgrid')\n",
    "\n",
    "cases   = profit_ratio_cases.keys()\n",
    "profits = profit_ratio_cases.values()\n",
    "revs    = revenue_ratios_cases.values()\n",
    "n       = len(cases)\n",
    "xvalues = np.arange(1, n + 1)\n",
    "colors  = sb.diverging_palette(220, 20, n=7)\n",
    "w       = 0.2\n",
    "fs      = 14\n",
    "\n",
    "fig = plt.figure(figsize=(9,6))\n",
    "ax  = plt.gca()\n",
    "axt = ax.twinx()\n",
    "\n",
    "ax.grid(False)\n",
    "axt.grid(False)\n",
    "\n",
    "ax.bar(xvalues-w, profits, width=.8*w, color=colors[0],    alpha=1.0, align='center')\n",
    "axt.bar(xvalues, revs,     width=.8*w, color=colors[-2],   alpha=1.0, align='center')\n",
    "\n",
    "customaxis(ax         = ax, \n",
    "           position   = 'left', \n",
    "           color      = colors[0], \n",
    "           label      = 'profit ratio',\n",
    "           scale      = 'log', \n",
    "           size       = fs, \n",
    "           full_nrs   = False, \n",
    "           location   = -0.0015)\n",
    "\n",
    "customaxis(ax         = axt, \n",
    "           position   = 'right', \n",
    "           color      = colors[-2], \n",
    "           label      = 'relative difference in total revenue',\n",
    "           scale      = 'linear', \n",
    "           size       = fs, \n",
    "           full_nrs   = False, \n",
    "           location   = 1.0)\n",
    "\n",
    "ax.set_xlabel('')\n",
    "ax.set_xticks(xvalues)\n",
    "ax.set_xticklabels(cases, fontsize=fs-3, rotation=45 )\n",
    "\n",
    "plt.savefig('temp.pdf', bbox_inches='tight')"
   ]
  },
  {
   "cell_type": "code",
   "execution_count": null,
   "metadata": {},
   "outputs": [],
   "source": []
  }
 ],
 "metadata": {
  "anaconda-cloud": {},
  "kernelspec": {
   "display_name": "Python 3",
   "language": "python",
   "name": "python3"
  },
  "language_info": {
   "codemirror_mode": {
    "name": "ipython",
    "version": 3
   },
   "file_extension": ".py",
   "mimetype": "text/x-python",
   "name": "python",
   "nbconvert_exporter": "python",
   "pygments_lexer": "ipython3",
   "version": "3.6.5"
  }
 },
 "nbformat": 4,
 "nbformat_minor": 2
}
